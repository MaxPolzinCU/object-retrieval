{
  "nbformat": 4,
  "nbformat_minor": 0,
  "metadata": {
    "colab": {
      "name": "basic_room_detector.ipynb",
      "provenance": [],
      "collapsed_sections": [
        "2j4hNs4p5PNY"
      ]
    },
    "kernelspec": {
      "name": "python3",
      "display_name": "Python 3"
    },
    "language_info": {
      "name": "python"
    }
  },
  "cells": [
    {
      "cell_type": "markdown",
      "source": [
        "#SYSC 5906:\n",
        "## **Room Detection - Dataset Processor**\n",
        "\n",
        "---\n",
        "Script to train and validate a Scikitlearn MLP model to peform room deteciton based on a processed version of the MIT Indoor Scenes dataset."
      ],
      "metadata": {
        "id": "QICfqS46PIAw"
      }
    },
    {
      "cell_type": "markdown",
      "source": [
        "###Step 1: Access Drive\n",
        "Mount the drive with the provided .zip file of code located in it"
      ],
      "metadata": {
        "id": "iH88MpCXOs2y"
      }
    },
    {
      "cell_type": "code",
      "execution_count": null,
      "metadata": {
        "colab": {
          "base_uri": "https://localhost:8080/"
        },
        "id": "X8OULSZvOqnU",
        "outputId": "64d132be-1616-4cc3-b8fe-1dc255d37acf"
      },
      "outputs": [
        {
          "output_type": "stream",
          "name": "stdout",
          "text": [
            "Mounted at /gdrive\n"
          ]
        }
      ],
      "source": [
        "#Enter the gdrive\n",
        "from google.colab import drive\n",
        "drive.mount('/gdrive',force_remount=True)"
      ]
    },
    {
      "cell_type": "markdown",
      "source": [
        "##Step 2: Setup\n",
        "Import relevenat libraries, load original MIT dataset into colabs (without the images) and get the folders inside"
      ],
      "metadata": {
        "id": "cwAXULn8Ou0S"
      }
    },
    {
      "cell_type": "code",
      "source": [
        "import sklearn as sk\n",
        "import pandas as pd\n",
        "import pickle\n",
        "import matplotlib.pyplot as plt\n",
        "import numpy as np\n",
        "from sklearn.neural_network import MLPClassifier\n",
        "from sklearn.neural_network import MLPRegressor\n",
        "from sklearn.metrics import confusion_matrix, ConfusionMatrixDisplay\n",
        "from sklearn.model_selection import train_test_split\n",
        "from sklearn.preprocessing import StandardScaler  \n",
        "from sklearn import svm\n",
        "from sklearn.ensemble import AdaBoostClassifier\n",
        "from sklearn.metrics import accuracy_score\n",
        "from sklearn.tree import DecisionTreeClassifier\n",
        "\n",
        "\n",
        "PROCESSED_DIRECTORY = '/gdrive/My Drive/Colab Notebooks/SYSC 5906/mit_indoors/processed/processedData.csv'\n",
        "MODEL_DIRECTORY_MPL = '/gdrive/My Drive/Colab Notebooks/SYSC 5906/weights/room_classifier_mpl.sav'\n",
        "MODEL_DIRECTORY_MPL_MOD = '/gdrive/My Drive/Colab Notebooks/SYSC 5906/weights/room_classifier_mpl_mod.sav'\n",
        "MODEL_DIRECTORY_ADA_DT = '/gdrive/My Drive/Colab Notebooks/SYSC 5906/weights/room_classifier_ada_dt.sav'"
      ],
      "metadata": {
        "id": "pnZgxc0OOufj"
      },
      "execution_count": null,
      "outputs": []
    },
    {
      "cell_type": "markdown",
      "source": [
        "##Step 3: Training\n",
        "Train all models, the models are trained on a portion\n",
        "of the MIT data that is designated as the training dataset"
      ],
      "metadata": {
        "id": "DoZIhOA6PWAP"
      }
    },
    {
      "cell_type": "code",
      "source": [
        "#Import the data from CSV\n",
        "trainingData = pd.read_csv(PROCESSED_DIRECTORY)\n",
        "\n",
        "#TEST:\n",
        "#print(trainingData)\n",
        "#print(trainingData.wall)\n",
        "\n",
        "#Split the data into training and validation sets\n",
        "training_set, validation_set = train_test_split(trainingData, train_size = 0.8, test_size = 0.2, random_state = 21)\n",
        "\n",
        "#Splitting the predictors (input data) and target \n",
        "#variables (answers/things to classify) as X and Y\n",
        "X_train = training_set.iloc[:,0:-1].values\n",
        "Y_train = training_set.iloc[:,-1].values\n",
        "X_val = validation_set.iloc[:,0:-1].values\n",
        "Y_val = validation_set.iloc[:,-1].values\n",
        "\n",
        "#TEST:\n",
        "# print(len(Y_train))\n",
        "# print(len(Y_val))\n",
        "\n",
        "#Scale the data\n",
        "scaler = StandardScaler()\n",
        "scaler.fit(X_train)\n",
        "X_train = scaler.transform(X_train)\n",
        "X_val = scaler.transform(X_val)\n",
        "\n",
        "#### Neural Net Methods ####\n",
        "#Build the basic MPL classifer\n",
        "classifier_mpl = MLPClassifier(hidden_layer_sizes=(150,100,50), \n",
        "                               max_iter=300, activation = 'relu', \n",
        "                               solver='adam', random_state=1)\n",
        "\n",
        "#Build the modified MPL classifer\n",
        "classifier_mpl_mod = MLPClassifier(hidden_layer_sizes=(150,100,50,10,10), \n",
        "                               max_iter=500, activation = 'relu', \n",
        "                               solver='adam', random_state=1)\n",
        "\n",
        "#Build the MPL regressor\n",
        "regressor_mpl = MLPRegressor(hidden_layer_sizes=(64,64,64),\n",
        "                   activation=\"relu\" ,random_state=1, \n",
        "                   max_iter=2000)\n",
        "\n",
        "#### Linear Methods ####\n",
        "decision_trees_adaboost = AdaBoostClassifier(DecisionTreeClassifier(max_depth=2), n_estimators=300, learning_rate=1.5, algorithm=\"SAMME\",)\n",
        "\n",
        "#SVM_clf = svm.SVC(kernel='rbf', gamma=1, C=1, decision_function_shape='ovo')\n",
        "#SVM_clf = svm.SVC(kernel='poly', degree=3, C=1, decision_function_shape='ovo')\n",
        "#SVM_clf = svm.SVC(kernel='linear', C=1, decision_function_shape='ovo')\n",
        "SVM_clf = svm.SVC(kernel='sigmoid', C=1, decision_function_shape='ovo')\n"
      ],
      "metadata": {
        "id": "8RYO4DZpPhjA"
      },
      "execution_count": null,
      "outputs": []
    },
    {
      "cell_type": "markdown",
      "source": [
        "***Neural Net Methods***"
      ],
      "metadata": {
        "id": "oDcmmMEnn9c5"
      }
    },
    {
      "cell_type": "markdown",
      "source": [
        "Train Scikit-learn **basic MLP classifier** model:"
      ],
      "metadata": {
        "id": "e6UmND171GTG"
      }
    },
    {
      "cell_type": "code",
      "source": [
        "#Fitting the training data to the network\n",
        "classifier_mpl.fit(X_train, Y_train)"
      ],
      "metadata": {
        "colab": {
          "base_uri": "https://localhost:8080/"
        },
        "id": "cBgFwvTyz5al",
        "outputId": "38a8e70b-6f79-458e-93ad-6a2c65c78a39"
      },
      "execution_count": null,
      "outputs": [
        {
          "output_type": "execute_result",
          "data": {
            "text/plain": [
              "MLPClassifier(hidden_layer_sizes=(150, 100, 50), max_iter=300, random_state=1)"
            ]
          },
          "metadata": {},
          "execution_count": 4
        }
      ]
    },
    {
      "cell_type": "markdown",
      "source": [
        "Train Scikit-learn **modified MLP classifier** model:"
      ],
      "metadata": {
        "id": "N-I9CX0o1TQZ"
      }
    },
    {
      "cell_type": "code",
      "source": [
        "#Fitting the training data to the network\n",
        "classifier_mpl_mod.fit(X_train, Y_train)"
      ],
      "metadata": {
        "colab": {
          "base_uri": "https://localhost:8080/"
        },
        "id": "DnqmxrZ_1X80",
        "outputId": "55fc7c8b-dcdb-4986-964c-e8b148cda808"
      },
      "execution_count": null,
      "outputs": [
        {
          "output_type": "execute_result",
          "data": {
            "text/plain": [
              "MLPClassifier(hidden_layer_sizes=(150, 100, 50, 10, 10), max_iter=500,\n",
              "              random_state=1)"
            ]
          },
          "metadata": {},
          "execution_count": 40
        }
      ]
    },
    {
      "cell_type": "markdown",
      "source": [
        "Train Scikit-learn **modified MLP regressor** model:"
      ],
      "metadata": {
        "id": "CSidOmPN4s5A"
      }
    },
    {
      "cell_type": "code",
      "source": [
        "#Fitting the training data to the network\n",
        "#regressor_mpl.fit(X_train, Y_train)\n",
        "\n",
        "#UPDATE THIS BLOCK !!!!"
      ],
      "metadata": {
        "id": "DgAUN8k54tbV"
      },
      "execution_count": null,
      "outputs": []
    },
    {
      "cell_type": "markdown",
      "source": [
        "***Linear Methods***"
      ],
      "metadata": {
        "id": "xNjfk9R4oQYP"
      }
    },
    {
      "cell_type": "markdown",
      "source": [
        "rain Scikit-learn **SVM** model:"
      ],
      "metadata": {
        "id": "uBccAP2QrRy5"
      }
    },
    {
      "cell_type": "code",
      "source": [
        "#Fitting the training data to the SVM classifier\n",
        "SVM_clf.fit(X_train, Y_train)"
      ],
      "metadata": {
        "colab": {
          "base_uri": "https://localhost:8080/"
        },
        "id": "bcFvpxGwrRhW",
        "outputId": "7419e47d-7866-44a8-a4a4-7bfef4900f3d"
      },
      "execution_count": null,
      "outputs": [
        {
          "output_type": "execute_result",
          "data": {
            "text/plain": [
              "SVC(C=1, decision_function_shape='ovo', kernel='sigmoid')"
            ]
          },
          "metadata": {},
          "execution_count": 66
        }
      ]
    },
    {
      "cell_type": "markdown",
      "source": [
        "Train Scikit-learn **Adaboost Decision Tree** model:\n",
        "\n"
      ],
      "metadata": {
        "id": "Vd_s8m8poQP_"
      }
    },
    {
      "cell_type": "code",
      "source": [
        "#Fitting the training data to the SGD classifier\n",
        "decision_trees_adaboost.fit(X_train, Y_train)"
      ],
      "metadata": {
        "colab": {
          "base_uri": "https://localhost:8080/"
        },
        "id": "kAnuvBGLn829",
        "outputId": "8ee3f3cd-421c-4312-baa4-c68f3a1fca71"
      },
      "execution_count": null,
      "outputs": [
        {
          "output_type": "execute_result",
          "data": {
            "text/plain": [
              "AdaBoostClassifier(algorithm='SAMME',\n",
              "                   base_estimator=DecisionTreeClassifier(max_depth=2),\n",
              "                   learning_rate=1.5, n_estimators=300)"
            ]
          },
          "metadata": {},
          "execution_count": 36
        }
      ]
    },
    {
      "cell_type": "markdown",
      "source": [
        "##Step 4: Validation\n",
        "Validate the models, determines the accuracy of their predictions on\n",
        "the validation dataset"
      ],
      "metadata": {
        "id": "bJ_SO4bNPchM"
      }
    },
    {
      "cell_type": "markdown",
      "source": [
        "***Neural Net Methods***"
      ],
      "metadata": {
        "id": "gV4Db6HZofMk"
      }
    },
    {
      "cell_type": "markdown",
      "source": [
        "Validate the **basic MLP classifier** model:"
      ],
      "metadata": {
        "id": "L8ANPnBj0By-"
      }
    },
    {
      "cell_type": "code",
      "source": [
        "#Predicting y for X_val\n",
        "Y_pred = classifier_mpl.predict(X_val)\n",
        "\n",
        "#Mean accurarcy on training and test data\n",
        "print(\"Score/accuracy on training data: %f\" % classifier_mpl.score(X_train, Y_train))\n",
        "print(\"Score/accuracy on validation data: %f\" % classifier_mpl.score(X_val, Y_val))\n",
        "print(\"Score/accuracy on validation data: %f\" % classifier_mpl.score(X_val, Y_pred))\n",
        "\n",
        "#Determines the accuracy based on the sklearn confusion matrix\n",
        "#this is the measured as the total number of correct \n",
        "#predictions divided by the total number of predictions.\n",
        "\n",
        "#Determine metrics\n",
        "# 'micro': Calculate metrics globally by counting the total true positives, false negatives and false positives.\n",
        "# 'macro': Calculate metrics for each label, and find their unweighted mean. This does not take label imbalance into account.\n",
        "print(\"Accuracy on validation data: %f\" % sk.metrics.accuracy_score(Y_val, Y_pred))\n",
        "print(\"Balanced accuracy on validation data: %f\" % sk.metrics.balanced_accuracy_score(Y_val, Y_pred))\n",
        "print(\"Recall score on validation data: %f\" % sk.metrics.recall_score(Y_val, Y_pred, average='macro', zero_division=0))\n",
        "print(\"Precision score on validation data: %f\" % sk.metrics.precision_score(Y_val, Y_pred, average='macro', zero_division=0))\n",
        "print(\"F1 score on validation data: %f\" % sk.metrics.f1_score(Y_val, Y_pred, average='macro'))\n",
        "\n",
        "# report = sk.metrics.classification_report(Y_val, Y_pred)\n",
        "# print(report)"
      ],
      "metadata": {
        "id": "G51hx0fhPg0j",
        "colab": {
          "base_uri": "https://localhost:8080/"
        },
        "outputId": "9246518b-9076-4af6-c523-c1cb8e01f8b0"
      },
      "execution_count": null,
      "outputs": [
        {
          "output_type": "stream",
          "name": "stdout",
          "text": [
            "Score/accuracy on training data: 0.998633\n",
            "Score/accuracy on validation data: 0.721311\n",
            "Score/accuracy on validation data: 1.000000\n",
            "Accuracy on validation data: 0.721311\n",
            "Balanced accuracy on validation data: 0.565730\n",
            "Recall score on validation data: 0.556750\n",
            "Precision score on validation data: 0.611244\n",
            "F1 score on validation data: 0.549635\n"
          ]
        },
        {
          "output_type": "stream",
          "name": "stderr",
          "text": [
            "/usr/local/lib/python3.7/dist-packages/sklearn/metrics/_classification.py:1987: UserWarning: y_pred contains classes not in y_true\n",
            "  warnings.warn(\"y_pred contains classes not in y_true\")\n"
          ]
        }
      ]
    },
    {
      "cell_type": "code",
      "source": [
        "#Setup confusion matrix figure\n",
        "plt.rcParams['figure.figsize'] = (100,100)\n",
        "\n",
        "#Plot the accuracy (confusion matrix)\n",
        "ConfusionMatrixDisplay.from_predictions(Y_val,Y_pred)\n",
        "plt.show()"
      ],
      "metadata": {
        "id": "IR1zN5vvb_71"
      },
      "execution_count": null,
      "outputs": []
    },
    {
      "cell_type": "markdown",
      "source": [
        "Validate the **modified MLP classifier** model:"
      ],
      "metadata": {
        "id": "TwZmVoeP0_Jj"
      }
    },
    {
      "cell_type": "code",
      "source": [
        "#Predicting y for X_val\n",
        "Y_pred = classifier_mpl_mod.predict(X_val)\n",
        "\n",
        "#Mean accurarcy on training and test data\n",
        "print(\"Score/accuracy on training data: %f\" % classifier_mpl_mod.score(X_train, Y_train))\n",
        "print(\"Score/accuracy on validation data: %f\" % classifier_mpl_mod.score(X_val, Y_val))\n",
        "print(\"Score/accuracy on validation data: %f\" % classifier_mpl_mod.score(X_val, Y_pred))\n",
        "\n",
        "#Determines the accuracy based on the sklearn confusion matrix\n",
        "#this is the measured as the total number of correct \n",
        "#predictions divided by the total number of predictions.\n",
        "\n",
        "#Determine metrics\n",
        "# 'micro': Calculate metrics globally by counting the total true positives, false negatives and false positives.\n",
        "# 'macro': Calculate metrics for each label, and find their unweighted mean. This does not take label imbalance into account.\n",
        "print(\"Accuracy on validation data: %f\" % sk.metrics.accuracy_score(Y_val, Y_pred))\n",
        "print(\"Balanced accuracy on validation data: %f\" % sk.metrics.balanced_accuracy_score(Y_val, Y_pred))\n",
        "print(\"Recall score on validation data: %f\" % sk.metrics.recall_score(Y_val, Y_pred, average='macro', zero_division=0))\n",
        "print(\"Precision score on validation data: %f\" % sk.metrics.precision_score(Y_val, Y_pred, average='macro', zero_division=0))\n",
        "print(\"F1 score on validation data: %f\" % sk.metrics.f1_score(Y_val, Y_pred, average='macro'))"
      ],
      "metadata": {
        "colab": {
          "base_uri": "https://localhost:8080/"
        },
        "id": "7riS9iiY1BIs",
        "outputId": "13435fa3-52ef-4ef3-a46d-dda707aa91b9"
      },
      "execution_count": null,
      "outputs": [
        {
          "output_type": "stream",
          "name": "stdout",
          "text": [
            "Score/accuracy on training data: 0.994531\n",
            "Score/accuracy on validation data: 0.619308\n",
            "Score/accuracy on validation data: 1.000000\n",
            "Accuracy on validation data: 0.619308\n",
            "Balanced accuracy on validation data: 0.420327\n",
            "Recall score on validation data: 0.400927\n",
            "Precision score on validation data: 0.452115\n",
            "F1 score on validation data: 0.393590\n"
          ]
        },
        {
          "output_type": "stream",
          "name": "stderr",
          "text": [
            "/usr/local/lib/python3.7/dist-packages/sklearn/metrics/_classification.py:1987: UserWarning: y_pred contains classes not in y_true\n",
            "  warnings.warn(\"y_pred contains classes not in y_true\")\n"
          ]
        }
      ]
    },
    {
      "cell_type": "code",
      "source": [
        "#Setup confusion matrix figure\n",
        "plt.rcParams['figure.figsize'] = (100,100)\n",
        "\n",
        "#Plot the accuracy (confusion matrix)\n",
        "ConfusionMatrixDisplay.from_predictions(Y_val,Y_pred)\n",
        "plt.show()"
      ],
      "metadata": {
        "id": "6WueA72NdpRE"
      },
      "execution_count": null,
      "outputs": []
    },
    {
      "cell_type": "markdown",
      "source": [
        "Validate the **MLP regressor** model:"
      ],
      "metadata": {
        "id": "Pejxq9Sy5B9j"
      }
    },
    {
      "cell_type": "code",
      "source": [
        "#Predicting y for X_val\n",
        "# Y_pred = regressor_mpl.predict(X_val)\n",
        "\n",
        "# #Comparing the predictions against the actual observations in y_val\n",
        "# confuse_matrix = confusion_matrix(Y_pred, Y_val)\n",
        "\n",
        "# #Printing the accuracy\n",
        "# accuracyResult = accuracy(confuse_matrix)\n",
        "# print(\"Accuracy of MLP Regressor : \", accuracyResult)\n",
        "\n",
        "#UPDATE THIS BLOCK !!!!!"
      ],
      "metadata": {
        "id": "bKboXcFc5BFS"
      },
      "execution_count": null,
      "outputs": []
    },
    {
      "cell_type": "markdown",
      "source": [
        "***Linear Methods***"
      ],
      "metadata": {
        "id": "Htwj9D4OogY3"
      }
    },
    {
      "cell_type": "markdown",
      "source": [
        "Validate the **SVM** model:"
      ],
      "metadata": {
        "id": "byxxOkCTrbWR"
      }
    },
    {
      "cell_type": "code",
      "source": [
        "#Predicting y for X_val\n",
        "Y_pred = SVM_clf.predict(X_val)\n",
        "\n",
        "#Mean accurarcy on training and test data\n",
        "print(\"Score/accuracy on training data: %f\" % SVM_clf.score(X_train, Y_train))\n",
        "print(\"Score/accuracy on validation data: %f\" % SVM_clf.score(X_val, Y_val))\n",
        "print(\"Score/accuracy on validation data: %f\" % SVM_clf.score(X_val, Y_pred))\n",
        "\n",
        "#Determine other metrics\n",
        "# 'micro': Calculate metrics globally by counting the total true positives, false negatives and false positives.\n",
        "# 'macro': Calculate metrics for each label, and find their unweighted mean. This does not take label imbalance into account.\n",
        "print(\"Accuracy on validation data: %f\" % sk.metrics.accuracy_score(Y_val, Y_pred))\n",
        "print(\"Balanced accuracy on validation data: %f\" % sk.metrics.balanced_accuracy_score(Y_val, Y_pred))\n",
        "print(\"Recall score on validation data: %f\" % sk.metrics.recall_score(Y_val, Y_pred, average='macro', zero_division=0))\n",
        "print(\"Precision score on validation data: %f\" % sk.metrics.precision_score(Y_val, Y_pred, average='macro', zero_division=0))\n",
        "print(\"F1 score on validation data: %f\" % sk.metrics.f1_score(Y_val, Y_pred, average='macro'))"
      ],
      "metadata": {
        "colab": {
          "base_uri": "https://localhost:8080/"
        },
        "id": "632rIDj5rbsq",
        "outputId": "550774cb-e6e2-4022-a072-0434546dcb13"
      },
      "execution_count": null,
      "outputs": [
        {
          "output_type": "stream",
          "name": "stdout",
          "text": [
            "Score/accuracy on training data: 0.725160\n",
            "Score/accuracy on validation data: 0.533698\n",
            "Score/accuracy on validation data: 1.000000\n",
            "Accuracy on validation data: 0.533698\n",
            "Balanced accuracy on validation data: 0.300934\n",
            "Recall score on validation data: 0.300934\n",
            "Precision score on validation data: 0.522724\n",
            "F1 score on validation data: 0.352488\n"
          ]
        }
      ]
    },
    {
      "cell_type": "code",
      "source": [
        "#Setup confusion matrix figure\n",
        "plt.rcParams['figure.figsize'] = (100,100)\n",
        "\n",
        "#Plot the accuracy (confusion matrix)\n",
        "ConfusionMatrixDisplay.from_predictions(Y_val,Y_pred)\n",
        "plt.show()"
      ],
      "metadata": {
        "id": "rP2kC2eivocz"
      },
      "execution_count": null,
      "outputs": []
    },
    {
      "cell_type": "markdown",
      "source": [
        "Validate the **Adaboost Decision Tree** model:"
      ],
      "metadata": {
        "id": "VvRrVhrgoiIl"
      }
    },
    {
      "cell_type": "code",
      "source": [
        "#Predicting y for X_val\n",
        "Y_pred = decision_trees_adaboost.predict(X_val)\n",
        "\n",
        "#Mean accurarcy on training and test data\n",
        "print(\"Score/accuracy on training data: %f\" % decision_trees_adaboost.score(X_train, Y_train))\n",
        "print(\"Score/accuracy on validation data: %f\" % decision_trees_adaboost.score(X_val, Y_val))\n",
        "print(\"Score/accuracy on validation data: %f\" % decision_trees_adaboost.score(X_val, Y_pred))\n",
        "\n",
        "#Determine metrics\n",
        "# 'micro': Calculate metrics globally by counting the total true positives, false negatives and false positives.\n",
        "# 'macro': Calculate metrics for each label, and find their unweighted mean. This does not take label imbalance into account.\n",
        "print(\"Accuracy on validation data: %f\" % sk.metrics.accuracy_score(Y_val, Y_pred))\n",
        "print(\"Balanced accuracy on validation data: %f\" % sk.metrics.balanced_accuracy_score(Y_val, Y_pred))\n",
        "print(\"Recall score on validation data: %f\" % sk.metrics.recall_score(Y_val, Y_pred, average='macro', zero_division=0))\n",
        "print(\"Precision score on validation data: %f\" % sk.metrics.precision_score(Y_val, Y_pred, average='macro', zero_division=0))\n",
        "print(\"F1 score on validation data: %f\" % sk.metrics.f1_score(Y_val, Y_pred, average='macro'))"
      ],
      "metadata": {
        "colab": {
          "base_uri": "https://localhost:8080/"
        },
        "id": "xkkT2L2jokpc",
        "outputId": "381875a6-b5b8-4331-979a-d6a5be4927eb"
      },
      "execution_count": null,
      "outputs": [
        {
          "output_type": "stream",
          "name": "stdout",
          "text": [
            "Score/accuracy on training data: 0.958979\n",
            "Score/accuracy on validation data: 0.908925\n",
            "Score/accuracy on validation data: 1.000000\n",
            "Accuracy on validation data: 0.908925\n",
            "Balanced accuracy on validation data: 0.805442\n",
            "Recall score on validation data: 0.805442\n",
            "Precision score on validation data: 0.800253\n",
            "F1 score on validation data: 0.782945\n"
          ]
        }
      ]
    },
    {
      "cell_type": "code",
      "source": [
        "#Setup confusion matrix figure\n",
        "plt.rcParams['figure.figsize'] = (100,100)\n",
        "\n",
        "#Plot the accuracy (confusion matrix)\n",
        "ConfusionMatrixDisplay.from_predictions(Y_val,Y_pred)\n",
        "plt.show()"
      ],
      "metadata": {
        "id": "SW9OdqDS7_n3"
      },
      "execution_count": null,
      "outputs": []
    },
    {
      "cell_type": "markdown",
      "source": [
        "##Step 5: Results\n",
        "Show performance results for each model"
      ],
      "metadata": {
        "id": "2j4hNs4p5PNY"
      }
    },
    {
      "cell_type": "code",
      "source": [
        "#Graph the results for the basic MLP classifier model:\n",
        "\n",
        "\n",
        "#Graph the results for the modified MLP classifier model:\n",
        "\n",
        "\n",
        "#Graph the results for the MLP regressor model:\n",
        "\n"
      ],
      "metadata": {
        "id": "3aEtOn1e1yOP"
      },
      "execution_count": null,
      "outputs": []
    },
    {
      "cell_type": "markdown",
      "source": [
        "##Step 6: Exporting & Deploying\n",
        "Save the model as a pickle"
      ],
      "metadata": {
        "id": "CdDWK3P6Ph2t"
      }
    },
    {
      "cell_type": "code",
      "source": [
        "#Save each of the trained models as a .sav\n",
        "pickle.dump(classifier_mpl, open(MODEL_DIRECTORY_MPL, 'wb'))\n",
        "pickle.dump(classifier_mpl_mod, open(MODEL_DIRECTORY_MPL_MOD, 'wb'))\n",
        "pickle.dump(decision_trees_adaboost, open(MODEL_DIRECTORY_ADA_DT, 'wb'))\n",
        "\n",
        "#To Load the model later:\n",
        "# loaded_model = pickle.load(open(MODEL_DIRECTORY, 'rb'))\n",
        "# result = loaded_model.score(X_test, Y_test)\n",
        "# print(result)"
      ],
      "metadata": {
        "id": "-quVz8V5PkkW"
      },
      "execution_count": null,
      "outputs": []
    }
  ]
}